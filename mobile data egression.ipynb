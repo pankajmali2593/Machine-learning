{
 "cells": [
  {
   "cell_type": "code",
   "execution_count": 1,
   "id": "f6a5b158",
   "metadata": {},
   "outputs": [],
   "source": [
    "import pandas as pd\n",
    "import numpy as np\n",
    "import matplotlib.pyplot as plt\n",
    "import seaborn as sns\n",
    "%matplotlib inline\n",
    "import warnings\n",
    "warnings.filterwarnings(\"ignore\")\n"
   ]
  },
  {
   "cell_type": "code",
   "execution_count": 2,
   "id": "0f55d74d",
   "metadata": {},
   "outputs": [],
   "source": [
    "mobiledata=pd.read_excel('D:/practice project data set/linear -2/mobile sell data.xlsx')"
   ]
  },
  {
   "cell_type": "code",
   "execution_count": 3,
   "id": "55634cf7",
   "metadata": {},
   "outputs": [
    {
     "data": {
      "text/html": [
       "<div>\n",
       "<style scoped>\n",
       "    .dataframe tbody tr th:only-of-type {\n",
       "        vertical-align: middle;\n",
       "    }\n",
       "\n",
       "    .dataframe tbody tr th {\n",
       "        vertical-align: top;\n",
       "    }\n",
       "\n",
       "    .dataframe thead th {\n",
       "        text-align: right;\n",
       "    }\n",
       "</style>\n",
       "<table border=\"1\" class=\"dataframe\">\n",
       "  <thead>\n",
       "    <tr style=\"text-align: right;\">\n",
       "      <th></th>\n",
       "      <th>Custmer</th>\n",
       "      <th>Day</th>\n",
       "      <th>Browser</th>\n",
       "      <th>No. of Clicks</th>\n",
       "      <th>Pages Viewed</th>\n",
       "      <th>Time (min)</th>\n",
       "      <th>Amount Spent (Rs.)</th>\n",
       "    </tr>\n",
       "  </thead>\n",
       "  <tbody>\n",
       "    <tr>\n",
       "      <th>0</th>\n",
       "      <td>1</td>\n",
       "      <td>Monday</td>\n",
       "      <td>Chrome</td>\n",
       "      <td>13</td>\n",
       "      <td>4</td>\n",
       "      <td>8.5</td>\n",
       "      <td>2668.0</td>\n",
       "    </tr>\n",
       "    <tr>\n",
       "      <th>1</th>\n",
       "      <td>2</td>\n",
       "      <td>Saturday</td>\n",
       "      <td>Chrome</td>\n",
       "      <td>15</td>\n",
       "      <td>5</td>\n",
       "      <td>16.9</td>\n",
       "      <td>3469.0</td>\n",
       "    </tr>\n",
       "    <tr>\n",
       "      <th>2</th>\n",
       "      <td>3</td>\n",
       "      <td>Monday</td>\n",
       "      <td>Internet Explorer</td>\n",
       "      <td>20</td>\n",
       "      <td>6</td>\n",
       "      <td>7.3</td>\n",
       "      <td>5215.0</td>\n",
       "    </tr>\n",
       "    <tr>\n",
       "      <th>3</th>\n",
       "      <td>4</td>\n",
       "      <td>Monday</td>\n",
       "      <td>Chrome</td>\n",
       "      <td>42</td>\n",
       "      <td>6</td>\n",
       "      <td>30.1</td>\n",
       "      <td>10423.0</td>\n",
       "    </tr>\n",
       "    <tr>\n",
       "      <th>4</th>\n",
       "      <td>5</td>\n",
       "      <td>Saturday</td>\n",
       "      <td>Internet Explorer</td>\n",
       "      <td>20</td>\n",
       "      <td>6</td>\n",
       "      <td>13.3</td>\n",
       "      <td>5404.0</td>\n",
       "    </tr>\n",
       "  </tbody>\n",
       "</table>\n",
       "</div>"
      ],
      "text/plain": [
       "     Custmer       Day            Browser  No. of Clicks  Pages Viewed  \\\n",
       "0          1    Monday             Chrome             13             4   \n",
       "1          2  Saturday             Chrome             15             5   \n",
       "2          3    Monday  Internet Explorer             20             6   \n",
       "3          4    Monday             Chrome             42             6   \n",
       "4          5  Saturday  Internet Explorer             20             6   \n",
       "\n",
       "   Time (min)  Amount Spent (Rs.)  \n",
       "0         8.5              2668.0  \n",
       "1        16.9              3469.0  \n",
       "2         7.3              5215.0  \n",
       "3        30.1             10423.0  \n",
       "4        13.3              5404.0  "
      ]
     },
     "execution_count": 3,
     "metadata": {},
     "output_type": "execute_result"
    }
   ],
   "source": [
    "mobiledata.head()"
   ]
  },
  {
   "cell_type": "code",
   "execution_count": 4,
   "id": "78e8271b",
   "metadata": {},
   "outputs": [
    {
     "data": {
      "text/html": [
       "<div>\n",
       "<style scoped>\n",
       "    .dataframe tbody tr th:only-of-type {\n",
       "        vertical-align: middle;\n",
       "    }\n",
       "\n",
       "    .dataframe tbody tr th {\n",
       "        vertical-align: top;\n",
       "    }\n",
       "\n",
       "    .dataframe thead th {\n",
       "        text-align: right;\n",
       "    }\n",
       "</style>\n",
       "<table border=\"1\" class=\"dataframe\">\n",
       "  <thead>\n",
       "    <tr style=\"text-align: right;\">\n",
       "      <th></th>\n",
       "      <th>Custmer</th>\n",
       "      <th>Day</th>\n",
       "      <th>Browser</th>\n",
       "      <th>No. of Clicks</th>\n",
       "      <th>Pages Viewed</th>\n",
       "      <th>Time (min)</th>\n",
       "      <th>Amount Spent (Rs.)</th>\n",
       "    </tr>\n",
       "  </thead>\n",
       "  <tbody>\n",
       "    <tr>\n",
       "      <th>43195</th>\n",
       "      <td>43196</td>\n",
       "      <td>Friday</td>\n",
       "      <td>Chrome</td>\n",
       "      <td>31</td>\n",
       "      <td>3</td>\n",
       "      <td>13.4</td>\n",
       "      <td>9875.0</td>\n",
       "    </tr>\n",
       "    <tr>\n",
       "      <th>43196</th>\n",
       "      <td>43197</td>\n",
       "      <td>Monday</td>\n",
       "      <td>Chrome</td>\n",
       "      <td>13</td>\n",
       "      <td>4</td>\n",
       "      <td>8.5</td>\n",
       "      <td>2668.0</td>\n",
       "    </tr>\n",
       "    <tr>\n",
       "      <th>43197</th>\n",
       "      <td>43198</td>\n",
       "      <td>Friday</td>\n",
       "      <td>Firefox</td>\n",
       "      <td>29</td>\n",
       "      <td>10</td>\n",
       "      <td>32.9</td>\n",
       "      <td>15530.0</td>\n",
       "    </tr>\n",
       "    <tr>\n",
       "      <th>43198</th>\n",
       "      <td>43199</td>\n",
       "      <td>Monday</td>\n",
       "      <td>Internet Explorer</td>\n",
       "      <td>20</td>\n",
       "      <td>6</td>\n",
       "      <td>7.3</td>\n",
       "      <td>5215.0</td>\n",
       "    </tr>\n",
       "    <tr>\n",
       "      <th>43199</th>\n",
       "      <td>43200</td>\n",
       "      <td>Wednesday</td>\n",
       "      <td>Chrome</td>\n",
       "      <td>29</td>\n",
       "      <td>4</td>\n",
       "      <td>11.3</td>\n",
       "      <td>6627.0</td>\n",
       "    </tr>\n",
       "  </tbody>\n",
       "</table>\n",
       "</div>"
      ],
      "text/plain": [
       "         Custmer        Day            Browser  No. of Clicks  Pages Viewed  \\\n",
       "43195      43196     Friday             Chrome             31             3   \n",
       "43196      43197     Monday             Chrome             13             4   \n",
       "43197      43198     Friday            Firefox             29            10   \n",
       "43198      43199     Monday  Internet Explorer             20             6   \n",
       "43199      43200  Wednesday             Chrome             29             4   \n",
       "\n",
       "       Time (min)  Amount Spent (Rs.)  \n",
       "43195        13.4              9875.0  \n",
       "43196         8.5              2668.0  \n",
       "43197        32.9             15530.0  \n",
       "43198         7.3              5215.0  \n",
       "43199        11.3              6627.0  "
      ]
     },
     "execution_count": 4,
     "metadata": {},
     "output_type": "execute_result"
    }
   ],
   "source": [
    "mobiledata.tail()"
   ]
  },
  {
   "cell_type": "code",
   "execution_count": 5,
   "id": "18c1d8ba",
   "metadata": {},
   "outputs": [
    {
     "data": {
      "text/plain": [
       "(43200, 7)"
      ]
     },
     "execution_count": 5,
     "metadata": {},
     "output_type": "execute_result"
    }
   ],
   "source": [
    "mobiledata.shape"
   ]
  },
  {
   "cell_type": "code",
   "execution_count": 6,
   "id": "72d95874",
   "metadata": {},
   "outputs": [
    {
     "data": {
      "text/plain": [
       "  Custmer             False\n",
       "Day                   False\n",
       "Browser               False\n",
       "No. of Clicks         False\n",
       "Pages Viewed          False\n",
       "Time (min)            False\n",
       "Amount Spent (Rs.)    False\n",
       "dtype: bool"
      ]
     },
     "execution_count": 6,
     "metadata": {},
     "output_type": "execute_result"
    }
   ],
   "source": [
    "mobiledata.isnull().any()"
   ]
  },
  {
   "cell_type": "code",
   "execution_count": 7,
   "id": "45eba019",
   "metadata": {},
   "outputs": [
    {
     "data": {
      "text/html": [
       "<div>\n",
       "<style scoped>\n",
       "    .dataframe tbody tr th:only-of-type {\n",
       "        vertical-align: middle;\n",
       "    }\n",
       "\n",
       "    .dataframe tbody tr th {\n",
       "        vertical-align: top;\n",
       "    }\n",
       "\n",
       "    .dataframe thead th {\n",
       "        text-align: right;\n",
       "    }\n",
       "</style>\n",
       "<table border=\"1\" class=\"dataframe\">\n",
       "  <thead>\n",
       "    <tr style=\"text-align: right;\">\n",
       "      <th></th>\n",
       "      <th>Custmer</th>\n",
       "      <th>No. of Clicks</th>\n",
       "      <th>Pages Viewed</th>\n",
       "      <th>Time (min)</th>\n",
       "      <th>Amount Spent (Rs.)</th>\n",
       "    </tr>\n",
       "  </thead>\n",
       "  <tbody>\n",
       "    <tr>\n",
       "      <th>count</th>\n",
       "      <td>43200.000000</td>\n",
       "      <td>43200.000000</td>\n",
       "      <td>43200.000000</td>\n",
       "      <td>43200.000000</td>\n",
       "      <td>43200.000000</td>\n",
       "    </tr>\n",
       "    <tr>\n",
       "      <th>mean</th>\n",
       "      <td>21600.500000</td>\n",
       "      <td>23.740000</td>\n",
       "      <td>4.820000</td>\n",
       "      <td>12.810000</td>\n",
       "      <td>6812.820000</td>\n",
       "    </tr>\n",
       "    <tr>\n",
       "      <th>std</th>\n",
       "      <td>12470.910151</td>\n",
       "      <td>8.267647</td>\n",
       "      <td>2.016853</td>\n",
       "      <td>6.002444</td>\n",
       "      <td>3201.905731</td>\n",
       "    </tr>\n",
       "    <tr>\n",
       "      <th>min</th>\n",
       "      <td>1.000000</td>\n",
       "      <td>8.000000</td>\n",
       "      <td>2.000000</td>\n",
       "      <td>4.300000</td>\n",
       "      <td>1784.000000</td>\n",
       "    </tr>\n",
       "    <tr>\n",
       "      <th>25%</th>\n",
       "      <td>10800.750000</td>\n",
       "      <td>18.000000</td>\n",
       "      <td>3.000000</td>\n",
       "      <td>8.500000</td>\n",
       "      <td>4473.000000</td>\n",
       "    </tr>\n",
       "    <tr>\n",
       "      <th>50%</th>\n",
       "      <td>21600.500000</td>\n",
       "      <td>22.500000</td>\n",
       "      <td>4.500000</td>\n",
       "      <td>11.400000</td>\n",
       "      <td>6215.000000</td>\n",
       "    </tr>\n",
       "    <tr>\n",
       "      <th>75%</th>\n",
       "      <td>32400.250000</td>\n",
       "      <td>29.000000</td>\n",
       "      <td>6.000000</td>\n",
       "      <td>15.100000</td>\n",
       "      <td>8412.000000</td>\n",
       "    </tr>\n",
       "    <tr>\n",
       "      <th>max</th>\n",
       "      <td>43200.000000</td>\n",
       "      <td>46.000000</td>\n",
       "      <td>10.000000</td>\n",
       "      <td>32.900000</td>\n",
       "      <td>15851.000000</td>\n",
       "    </tr>\n",
       "  </tbody>\n",
       "</table>\n",
       "</div>"
      ],
      "text/plain": [
       "            Custmer  No. of Clicks  Pages Viewed    Time (min)  \\\n",
       "count  43200.000000   43200.000000  43200.000000  43200.000000   \n",
       "mean   21600.500000      23.740000      4.820000     12.810000   \n",
       "std    12470.910151       8.267647      2.016853      6.002444   \n",
       "min        1.000000       8.000000      2.000000      4.300000   \n",
       "25%    10800.750000      18.000000      3.000000      8.500000   \n",
       "50%    21600.500000      22.500000      4.500000     11.400000   \n",
       "75%    32400.250000      29.000000      6.000000     15.100000   \n",
       "max    43200.000000      46.000000     10.000000     32.900000   \n",
       "\n",
       "       Amount Spent (Rs.)  \n",
       "count        43200.000000  \n",
       "mean          6812.820000  \n",
       "std           3201.905731  \n",
       "min           1784.000000  \n",
       "25%           4473.000000  \n",
       "50%           6215.000000  \n",
       "75%           8412.000000  \n",
       "max          15851.000000  "
      ]
     },
     "execution_count": 7,
     "metadata": {},
     "output_type": "execute_result"
    }
   ],
   "source": [
    "mobiledata.describe()"
   ]
  },
  {
   "cell_type": "code",
   "execution_count": 8,
   "id": "f47a6afa",
   "metadata": {},
   "outputs": [
    {
     "data": {
      "text/plain": [
       "array(['Monday', 'Saturday', 'Friday', 'Sunday', 'Tuesday', 'Wednesday',\n",
       "       'Thursday'], dtype=object)"
      ]
     },
     "execution_count": 8,
     "metadata": {},
     "output_type": "execute_result"
    }
   ],
   "source": [
    "mobiledata['Day'].unique()"
   ]
  },
  {
   "cell_type": "code",
   "execution_count": 9,
   "id": "a4384fae",
   "metadata": {},
   "outputs": [
    {
     "data": {
      "text/plain": [
       "Friday       9504\n",
       "Monday       7776\n",
       "Saturday     6048\n",
       "Tuesday      6048\n",
       "Wednesday    5184\n",
       "Sunday       4320\n",
       "Thursday     4320\n",
       "Name: Day, dtype: int64"
      ]
     },
     "execution_count": 9,
     "metadata": {},
     "output_type": "execute_result"
    }
   ],
   "source": [
    "mobiledata['Day'].value_counts()#chek only by value count."
   ]
  },
  {
   "cell_type": "code",
   "execution_count": 10,
   "id": "487fa321",
   "metadata": {},
   "outputs": [
    {
     "data": {
      "text/html": [
       "<div>\n",
       "<style scoped>\n",
       "    .dataframe tbody tr th:only-of-type {\n",
       "        vertical-align: middle;\n",
       "    }\n",
       "\n",
       "    .dataframe tbody tr th {\n",
       "        vertical-align: top;\n",
       "    }\n",
       "\n",
       "    .dataframe thead th {\n",
       "        text-align: right;\n",
       "    }\n",
       "</style>\n",
       "<table border=\"1\" class=\"dataframe\">\n",
       "  <thead>\n",
       "    <tr style=\"text-align: right;\">\n",
       "      <th></th>\n",
       "      <th>Custmer</th>\n",
       "      <th>Day</th>\n",
       "      <th>Browser</th>\n",
       "      <th>No. of Clicks</th>\n",
       "      <th>Pages Viewed</th>\n",
       "      <th>Time (min)</th>\n",
       "      <th>Amount Spent (Rs.)</th>\n",
       "    </tr>\n",
       "  </thead>\n",
       "  <tbody>\n",
       "    <tr>\n",
       "      <th>17029</th>\n",
       "      <td>17030</td>\n",
       "      <td>Monday</td>\n",
       "      <td>Firefox</td>\n",
       "      <td>46</td>\n",
       "      <td>10</td>\n",
       "      <td>24.4</td>\n",
       "      <td>15851.0</td>\n",
       "    </tr>\n",
       "    <tr>\n",
       "      <th>6774</th>\n",
       "      <td>6775</td>\n",
       "      <td>Monday</td>\n",
       "      <td>Firefox</td>\n",
       "      <td>46</td>\n",
       "      <td>10</td>\n",
       "      <td>24.4</td>\n",
       "      <td>15851.0</td>\n",
       "    </tr>\n",
       "    <tr>\n",
       "      <th>19344</th>\n",
       "      <td>19345</td>\n",
       "      <td>Monday</td>\n",
       "      <td>Firefox</td>\n",
       "      <td>46</td>\n",
       "      <td>10</td>\n",
       "      <td>24.4</td>\n",
       "      <td>15851.0</td>\n",
       "    </tr>\n",
       "    <tr>\n",
       "      <th>6753</th>\n",
       "      <td>6754</td>\n",
       "      <td>Monday</td>\n",
       "      <td>Firefox</td>\n",
       "      <td>46</td>\n",
       "      <td>10</td>\n",
       "      <td>24.4</td>\n",
       "      <td>15851.0</td>\n",
       "    </tr>\n",
       "    <tr>\n",
       "      <th>2014</th>\n",
       "      <td>2015</td>\n",
       "      <td>Monday</td>\n",
       "      <td>Firefox</td>\n",
       "      <td>46</td>\n",
       "      <td>10</td>\n",
       "      <td>24.4</td>\n",
       "      <td>15851.0</td>\n",
       "    </tr>\n",
       "    <tr>\n",
       "      <th>...</th>\n",
       "      <td>...</td>\n",
       "      <td>...</td>\n",
       "      <td>...</td>\n",
       "      <td>...</td>\n",
       "      <td>...</td>\n",
       "      <td>...</td>\n",
       "      <td>...</td>\n",
       "    </tr>\n",
       "    <tr>\n",
       "      <th>41210</th>\n",
       "      <td>41211</td>\n",
       "      <td>Thursday</td>\n",
       "      <td>Chrome</td>\n",
       "      <td>11</td>\n",
       "      <td>2</td>\n",
       "      <td>8.1</td>\n",
       "      <td>1784.0</td>\n",
       "    </tr>\n",
       "    <tr>\n",
       "      <th>10551</th>\n",
       "      <td>10552</td>\n",
       "      <td>Thursday</td>\n",
       "      <td>Chrome</td>\n",
       "      <td>11</td>\n",
       "      <td>2</td>\n",
       "      <td>8.1</td>\n",
       "      <td>1784.0</td>\n",
       "    </tr>\n",
       "    <tr>\n",
       "      <th>21828</th>\n",
       "      <td>21829</td>\n",
       "      <td>Thursday</td>\n",
       "      <td>Chrome</td>\n",
       "      <td>11</td>\n",
       "      <td>2</td>\n",
       "      <td>8.1</td>\n",
       "      <td>1784.0</td>\n",
       "    </tr>\n",
       "    <tr>\n",
       "      <th>21831</th>\n",
       "      <td>21832</td>\n",
       "      <td>Thursday</td>\n",
       "      <td>Chrome</td>\n",
       "      <td>11</td>\n",
       "      <td>2</td>\n",
       "      <td>8.1</td>\n",
       "      <td>1784.0</td>\n",
       "    </tr>\n",
       "    <tr>\n",
       "      <th>26285</th>\n",
       "      <td>26286</td>\n",
       "      <td>Thursday</td>\n",
       "      <td>Chrome</td>\n",
       "      <td>11</td>\n",
       "      <td>2</td>\n",
       "      <td>8.1</td>\n",
       "      <td>1784.0</td>\n",
       "    </tr>\n",
       "  </tbody>\n",
       "</table>\n",
       "<p>43200 rows × 7 columns</p>\n",
       "</div>"
      ],
      "text/plain": [
       "         Custmer       Day  Browser  No. of Clicks  Pages Viewed  Time (min)  \\\n",
       "17029      17030    Monday  Firefox             46            10        24.4   \n",
       "6774        6775    Monday  Firefox             46            10        24.4   \n",
       "19344      19345    Monday  Firefox             46            10        24.4   \n",
       "6753        6754    Monday  Firefox             46            10        24.4   \n",
       "2014        2015    Monday  Firefox             46            10        24.4   \n",
       "...          ...       ...      ...            ...           ...         ...   \n",
       "41210      41211  Thursday   Chrome             11             2         8.1   \n",
       "10551      10552  Thursday   Chrome             11             2         8.1   \n",
       "21828      21829  Thursday   Chrome             11             2         8.1   \n",
       "21831      21832  Thursday   Chrome             11             2         8.1   \n",
       "26285      26286  Thursday   Chrome             11             2         8.1   \n",
       "\n",
       "       Amount Spent (Rs.)  \n",
       "17029             15851.0  \n",
       "6774              15851.0  \n",
       "19344             15851.0  \n",
       "6753              15851.0  \n",
       "2014              15851.0  \n",
       "...                   ...  \n",
       "41210              1784.0  \n",
       "10551              1784.0  \n",
       "21828              1784.0  \n",
       "21831              1784.0  \n",
       "26285              1784.0  \n",
       "\n",
       "[43200 rows x 7 columns]"
      ]
     },
     "execution_count": 10,
     "metadata": {},
     "output_type": "execute_result"
    }
   ],
   "source": [
    "mobile=mobiledata.sort_values(by=['Amount Spent (Rs.)'],ascending=False)\n",
    "mobile"
   ]
  },
  {
   "cell_type": "code",
   "execution_count": 11,
   "id": "30b5e4a8",
   "metadata": {},
   "outputs": [
    {
     "data": {
      "text/html": [
       "<div>\n",
       "<style scoped>\n",
       "    .dataframe tbody tr th:only-of-type {\n",
       "        vertical-align: middle;\n",
       "    }\n",
       "\n",
       "    .dataframe tbody tr th {\n",
       "        vertical-align: top;\n",
       "    }\n",
       "\n",
       "    .dataframe thead th {\n",
       "        text-align: right;\n",
       "    }\n",
       "</style>\n",
       "<table border=\"1\" class=\"dataframe\">\n",
       "  <thead>\n",
       "    <tr style=\"text-align: right;\">\n",
       "      <th></th>\n",
       "      <th>No. of Clicks</th>\n",
       "      <th>Pages Viewed</th>\n",
       "      <th>Amount Spent (Rs.)</th>\n",
       "    </tr>\n",
       "    <tr>\n",
       "      <th>Browser</th>\n",
       "      <th></th>\n",
       "      <th></th>\n",
       "      <th></th>\n",
       "    </tr>\n",
       "  </thead>\n",
       "  <tbody>\n",
       "    <tr>\n",
       "      <th>Chrome</th>\n",
       "      <td>42</td>\n",
       "      <td>7</td>\n",
       "      <td>12640.0</td>\n",
       "    </tr>\n",
       "    <tr>\n",
       "      <th>Firefox</th>\n",
       "      <td>46</td>\n",
       "      <td>10</td>\n",
       "      <td>15851.0</td>\n",
       "    </tr>\n",
       "    <tr>\n",
       "      <th>Internet Explorer</th>\n",
       "      <td>37</td>\n",
       "      <td>9</td>\n",
       "      <td>12025.0</td>\n",
       "    </tr>\n",
       "  </tbody>\n",
       "</table>\n",
       "</div>"
      ],
      "text/plain": [
       "                   No. of Clicks  Pages Viewed  Amount Spent (Rs.)\n",
       "Browser                                                           \n",
       "Chrome                        42             7             12640.0\n",
       "Firefox                       46            10             15851.0\n",
       "Internet Explorer             37             9             12025.0"
      ]
     },
     "execution_count": 11,
     "metadata": {},
     "output_type": "execute_result"
    }
   ],
   "source": [
    "US_state=mobiledata[['Browser','No. of Clicks','Pages Viewed','Amount Spent (Rs.)']].groupby('Browser').max()\n",
    "US_state"
   ]
  },
  {
   "cell_type": "code",
   "execution_count": 12,
   "id": "2b395bc5",
   "metadata": {},
   "outputs": [
    {
     "data": {
      "text/html": [
       "<div>\n",
       "<style scoped>\n",
       "    .dataframe tbody tr th:only-of-type {\n",
       "        vertical-align: middle;\n",
       "    }\n",
       "\n",
       "    .dataframe tbody tr th {\n",
       "        vertical-align: top;\n",
       "    }\n",
       "\n",
       "    .dataframe thead th {\n",
       "        text-align: right;\n",
       "    }\n",
       "</style>\n",
       "<table border=\"1\" class=\"dataframe\">\n",
       "  <thead>\n",
       "    <tr style=\"text-align: right;\">\n",
       "      <th></th>\n",
       "      <th>Custmer</th>\n",
       "      <th>No. of Clicks</th>\n",
       "      <th>Pages Viewed</th>\n",
       "      <th>Time (min)</th>\n",
       "      <th>Amount Spent (Rs.)</th>\n",
       "    </tr>\n",
       "  </thead>\n",
       "  <tbody>\n",
       "    <tr>\n",
       "      <th>Custmer</th>\n",
       "      <td>1.000000</td>\n",
       "      <td>0.002474</td>\n",
       "      <td>0.000821</td>\n",
       "      <td>-0.001407</td>\n",
       "      <td>0.002682</td>\n",
       "    </tr>\n",
       "    <tr>\n",
       "      <th>No. of Clicks</th>\n",
       "      <td>0.002474</td>\n",
       "      <td>1.000000</td>\n",
       "      <td>0.566934</td>\n",
       "      <td>0.516365</td>\n",
       "      <td>0.903248</td>\n",
       "    </tr>\n",
       "    <tr>\n",
       "      <th>Pages Viewed</th>\n",
       "      <td>0.000821</td>\n",
       "      <td>0.566934</td>\n",
       "      <td>1.000000</td>\n",
       "      <td>0.595568</td>\n",
       "      <td>0.723667</td>\n",
       "    </tr>\n",
       "    <tr>\n",
       "      <th>Time (min)</th>\n",
       "      <td>-0.001407</td>\n",
       "      <td>0.516365</td>\n",
       "      <td>0.595568</td>\n",
       "      <td>1.000000</td>\n",
       "      <td>0.580048</td>\n",
       "    </tr>\n",
       "    <tr>\n",
       "      <th>Amount Spent (Rs.)</th>\n",
       "      <td>0.002682</td>\n",
       "      <td>0.903248</td>\n",
       "      <td>0.723667</td>\n",
       "      <td>0.580048</td>\n",
       "      <td>1.000000</td>\n",
       "    </tr>\n",
       "  </tbody>\n",
       "</table>\n",
       "</div>"
      ],
      "text/plain": [
       "                      Custmer  No. of Clicks  Pages Viewed  Time (min)  \\\n",
       "  Custmer            1.000000       0.002474      0.000821   -0.001407   \n",
       "No. of Clicks        0.002474       1.000000      0.566934    0.516365   \n",
       "Pages Viewed         0.000821       0.566934      1.000000    0.595568   \n",
       "Time (min)          -0.001407       0.516365      0.595568    1.000000   \n",
       "Amount Spent (Rs.)   0.002682       0.903248      0.723667    0.580048   \n",
       "\n",
       "                    Amount Spent (Rs.)  \n",
       "  Custmer                     0.002682  \n",
       "No. of Clicks                 0.903248  \n",
       "Pages Viewed                  0.723667  \n",
       "Time (min)                    0.580048  \n",
       "Amount Spent (Rs.)            1.000000  "
      ]
     },
     "execution_count": 12,
     "metadata": {},
     "output_type": "execute_result"
    }
   ],
   "source": [
    "corr=mobiledata.corr()\n",
    "corr"
   ]
  },
  {
   "cell_type": "code",
   "execution_count": 13,
   "id": "2d5e3f5b",
   "metadata": {},
   "outputs": [
    {
     "data": {
      "text/plain": [
       "<AxesSubplot:>"
      ]
     },
     "execution_count": 13,
     "metadata": {},
     "output_type": "execute_result"
    },
    {
     "data": {
      "image/png": "[encoded data removed]",
      "text/plain": [
       "<Figure size 640x480 with 2 Axes>"
      ]
     },
     "metadata": {},
     "output_type": "display_data"
    }
   ],
   "source": [
    "sns.heatmap(corr,annot=True,vmin=-1,vmax=1,cmap='YlOrBr')"
   ]
  },
  {
   "cell_type": "code",
   "execution_count": null,
   "id": "ba9cff81",
   "metadata": {},
   "outputs": [],
   "source": []
  },
  {
   "cell_type": "code",
   "execution_count": null,
   "id": "9f210e9c",
   "metadata": {},
   "outputs": [],
   "source": []
  },
  {
   "cell_type": "code",
   "execution_count": 14,
   "id": "0dbb97cb",
   "metadata": {},
   "outputs": [
    {
     "data": {
      "text/plain": [
       "<AxesSubplot:xlabel='Day', ylabel='Amount Spent (Rs.)'>"
      ]
     },
     "execution_count": 14,
     "metadata": {},
     "output_type": "execute_result"
    },
    {
     "data": {
      "image/png": "[encoded data removed]",
      "text/plain": [
       "<Figure size 640x480 with 1 Axes>"
      ]
     },
     "metadata": {},
     "output_type": "display_data"
    }
   ],
   "source": [
    "sns.barplot(x='Day',y='Amount Spent (Rs.)',data=mobiledata)"
   ]
  },
  {
   "cell_type": "code",
   "execution_count": 15,
   "id": "f582f587",
   "metadata": {},
   "outputs": [
    {
     "data": {
      "text/plain": [
       "<AxesSubplot:xlabel='Day', ylabel='Amount Spent (Rs.)'>"
      ]
     },
     "execution_count": 15,
     "metadata": {},
     "output_type": "execute_result"
    },
    {
     "data": {
      "image/png": "[encoded data removed]",
      "text/plain": [
       "<Figure size 640x480 with 1 Axes>"
      ]
     },
     "metadata": {},
     "output_type": "display_data"
    }
   ],
   "source": [
    "sns.barplot(x='Day',y='Amount Spent (Rs.)',data=mobiledata,order=['Monday','Tuesday','Wednesday','Thursday','Friday','Saturday','Sunday'])"
   ]
  },
  {
   "cell_type": "code",
   "execution_count": 16,
   "id": "f583e4de",
   "metadata": {},
   "outputs": [
    {
     "data": {
      "text/plain": [
       "array(['Chrome', 'Internet Explorer', 'Firefox'], dtype=object)"
      ]
     },
     "execution_count": 16,
     "metadata": {},
     "output_type": "execute_result"
    }
   ],
   "source": [
    "mobiledata['Browser'].unique()"
   ]
  },
  {
   "cell_type": "code",
   "execution_count": 17,
   "id": "19bfe3ce",
   "metadata": {},
   "outputs": [
    {
     "data": {
      "text/plain": [
       "Chrome               23328\n",
       "Firefox              13824\n",
       "Internet Explorer     6048\n",
       "Name: Browser, dtype: int64"
      ]
     },
     "execution_count": 17,
     "metadata": {},
     "output_type": "execute_result"
    }
   ],
   "source": [
    "mobiledata['Browser'].value_counts()"
   ]
  },
  {
   "cell_type": "code",
   "execution_count": 18,
   "id": "b1b5988d",
   "metadata": {},
   "outputs": [
    {
     "data": {
      "image/png": "[encoded data removed]",
      "text/plain": [
       "<Figure size 640x480 with 1 Axes>"
      ]
     },
     "metadata": {},
     "output_type": "display_data"
    }
   ],
   "source": [
    "labels=['Chrome', 'Internet Explorer', 'Firefox']\n",
    "values=mobiledata['Browser'].value_counts().values\n",
    "fig, ax1=plt.subplots()\n",
    "colors=['green','yellow','red']\n",
    "ax1.pie(values,labels=labels,autopct='%1.1f%%',shadow=True,colors=colors)\n",
    "plt.show()"
   ]
  },
  {
   "cell_type": "code",
   "execution_count": 19,
   "id": "b0474e7a",
   "metadata": {},
   "outputs": [
    {
     "data": {
      "text/plain": [
       "<AxesSubplot:xlabel='Browser', ylabel='Amount Spent (Rs.)'>"
      ]
     },
     "execution_count": 19,
     "metadata": {},
     "output_type": "execute_result"
    },
    {
     "data": {
      "image/png": "[encoded data removed]",
      "text/plain": [
       "<Figure size 640x480 with 1 Axes>"
      ]
     },
     "metadata": {},
     "output_type": "display_data"
    }
   ],
   "source": [
    "sns.barplot(x='Browser',y='Amount Spent (Rs.)',data=mobiledata)"
   ]
  },
  {
   "cell_type": "code",
   "execution_count": 20,
   "id": "d6919e5f",
   "metadata": {},
   "outputs": [],
   "source": [
    "#sns.barplot(x='Browser',y='No. of Clicks',data=mobiledata)"
   ]
  },
  {
   "cell_type": "code",
   "execution_count": 21,
   "id": "c6f16977",
   "metadata": {},
   "outputs": [
    {
     "data": {
      "text/plain": [
       "<AxesSubplot:xlabel='Browser', ylabel='Time (min)'>"
      ]
     },
     "execution_count": 21,
     "metadata": {},
     "output_type": "execute_result"
    },
    {
     "data": {
      "image/png": "[encoded data removed]",
      "text/plain": [
       "<Figure size 640x480 with 1 Axes>"
      ]
     },
     "metadata": {},
     "output_type": "display_data"
    }
   ],
   "source": [
    "sns.barplot(x='Browser',y='Time (min)',data=mobiledata)"
   ]
  },
  {
   "cell_type": "code",
   "execution_count": 22,
   "id": "bbcd92cc",
   "metadata": {},
   "outputs": [
    {
     "data": {
      "text/plain": [
       "<AxesSubplot:ylabel='Amount Spent (Rs.)'>"
      ]
     },
     "execution_count": 22,
     "metadata": {},
     "output_type": "execute_result"
    },
    {
     "data": {
      "image/png": "[encoded data removed]",
      "text/plain": [
       "<Figure size 500x500 with 1 Axes>"
      ]
     },
     "metadata": {},
     "output_type": "display_data"
    }
   ],
   "source": [
    "plt.figure(figsize=(5,5))\n",
    "sns.boxplot(y=mobiledata['Amount Spent (Rs.)'])"
   ]
  },
  {
   "cell_type": "code",
   "execution_count": 23,
   "id": "d4b90102",
   "metadata": {},
   "outputs": [
    {
     "data": {
      "text/plain": [
       "<AxesSubplot:ylabel='No. of Clicks'>"
      ]
     },
     "execution_count": 23,
     "metadata": {},
     "output_type": "execute_result"
    },
    {
     "data": {
      "image/png": "[encoded data removed]",
      "text/plain": [
       "<Figure size 500x500 with 1 Axes>"
      ]
     },
     "metadata": {},
     "output_type": "display_data"
    }
   ],
   "source": [
    "plt.figure(figsize=(5,5))\n",
    "sns.boxplot(y=mobiledata['No. of Clicks'])"
   ]
  },
  {
   "cell_type": "code",
   "execution_count": 24,
   "id": "da3379ed",
   "metadata": {},
   "outputs": [
    {
     "data": {
      "text/plain": [
       "<AxesSubplot:ylabel='Pages Viewed'>"
      ]
     },
     "execution_count": 24,
     "metadata": {},
     "output_type": "execute_result"
    },
    {
     "data": {
      "image/png": "[encoded data removed]",
      "text/plain": [
       "<Figure size 500x500 with 1 Axes>"
      ]
     },
     "metadata": {},
     "output_type": "display_data"
    }
   ],
   "source": [
    "plt.figure(figsize=(5,5))\n",
    "sns.boxplot(y=mobiledata['Pages Viewed'])"
   ]
  },
  {
   "cell_type": "code",
   "execution_count": 25,
   "id": "22c97c85",
   "metadata": {},
   "outputs": [
    {
     "data": {
      "text/plain": [
       "<AxesSubplot:ylabel='Time (min)'>"
      ]
     },
     "execution_count": 25,
     "metadata": {},
     "output_type": "execute_result"
    },
    {
     "data": {
      "image/png": "[encoded data removed]",
      "text/plain": [
       "<Figure size 500x500 with 1 Axes>"
      ]
     },
     "metadata": {},
     "output_type": "display_data"
    }
   ],
   "source": [
    "plt.figure(figsize=(5,5))\n",
    "sns.boxplot(y=mobiledata['Time (min)'])"
   ]
  },
  {
   "cell_type": "code",
   "execution_count": 26,
   "id": "ba60e84e",
   "metadata": {},
   "outputs": [],
   "source": [
    "#sns.pairplot(mobiledata,hue='Time (min)')"
   ]
  },
  {
   "cell_type": "code",
   "execution_count": 27,
   "id": "490ef0a3",
   "metadata": {},
   "outputs": [
    {
     "data": {
      "text/plain": [
       "15851.0"
      ]
     },
     "execution_count": 27,
     "metadata": {},
     "output_type": "execute_result"
    }
   ],
   "source": [
    "max_thresold=mobiledata['Amount Spent (Rs.)'].quantile(0.999)\n",
    "max_thresold"
   ]
  },
  {
   "cell_type": "code",
   "execution_count": 28,
   "id": "8db72651",
   "metadata": {},
   "outputs": [
    {
     "data": {
      "text/plain": [
       "1784.0000000000005"
      ]
     },
     "execution_count": 28,
     "metadata": {},
     "output_type": "execute_result"
    }
   ],
   "source": [
    "min_thresold=mobiledata['Amount Spent (Rs.)'].quantile(0.005)\n",
    "min_thresold"
   ]
  },
  {
   "cell_type": "code",
   "execution_count": 29,
   "id": "abef0050",
   "metadata": {},
   "outputs": [
    {
     "data": {
      "text/html": [
       "<div>\n",
       "<style scoped>\n",
       "    .dataframe tbody tr th:only-of-type {\n",
       "        vertical-align: middle;\n",
       "    }\n",
       "\n",
       "    .dataframe tbody tr th {\n",
       "        vertical-align: top;\n",
       "    }\n",
       "\n",
       "    .dataframe thead th {\n",
       "        text-align: right;\n",
       "    }\n",
       "</style>\n",
       "<table border=\"1\" class=\"dataframe\">\n",
       "  <thead>\n",
       "    <tr style=\"text-align: right;\">\n",
       "      <th></th>\n",
       "      <th>Custmer</th>\n",
       "      <th>Day</th>\n",
       "      <th>Browser</th>\n",
       "      <th>No. of Clicks</th>\n",
       "      <th>Pages Viewed</th>\n",
       "      <th>Time (min)</th>\n",
       "      <th>Amount Spent (Rs.)</th>\n",
       "    </tr>\n",
       "  </thead>\n",
       "  <tbody>\n",
       "    <tr>\n",
       "      <th>0</th>\n",
       "      <td>1</td>\n",
       "      <td>Monday</td>\n",
       "      <td>Chrome</td>\n",
       "      <td>13</td>\n",
       "      <td>4</td>\n",
       "      <td>8.5</td>\n",
       "      <td>2668.0</td>\n",
       "    </tr>\n",
       "    <tr>\n",
       "      <th>1</th>\n",
       "      <td>2</td>\n",
       "      <td>Saturday</td>\n",
       "      <td>Chrome</td>\n",
       "      <td>15</td>\n",
       "      <td>5</td>\n",
       "      <td>16.9</td>\n",
       "      <td>3469.0</td>\n",
       "    </tr>\n",
       "    <tr>\n",
       "      <th>2</th>\n",
       "      <td>3</td>\n",
       "      <td>Monday</td>\n",
       "      <td>Internet Explorer</td>\n",
       "      <td>20</td>\n",
       "      <td>6</td>\n",
       "      <td>7.3</td>\n",
       "      <td>5215.0</td>\n",
       "    </tr>\n",
       "    <tr>\n",
       "      <th>3</th>\n",
       "      <td>4</td>\n",
       "      <td>Monday</td>\n",
       "      <td>Chrome</td>\n",
       "      <td>42</td>\n",
       "      <td>6</td>\n",
       "      <td>30.1</td>\n",
       "      <td>10423.0</td>\n",
       "    </tr>\n",
       "    <tr>\n",
       "      <th>4</th>\n",
       "      <td>5</td>\n",
       "      <td>Saturday</td>\n",
       "      <td>Internet Explorer</td>\n",
       "      <td>20</td>\n",
       "      <td>6</td>\n",
       "      <td>13.3</td>\n",
       "      <td>5404.0</td>\n",
       "    </tr>\n",
       "    <tr>\n",
       "      <th>...</th>\n",
       "      <td>...</td>\n",
       "      <td>...</td>\n",
       "      <td>...</td>\n",
       "      <td>...</td>\n",
       "      <td>...</td>\n",
       "      <td>...</td>\n",
       "      <td>...</td>\n",
       "    </tr>\n",
       "    <tr>\n",
       "      <th>43195</th>\n",
       "      <td>43196</td>\n",
       "      <td>Friday</td>\n",
       "      <td>Chrome</td>\n",
       "      <td>31</td>\n",
       "      <td>3</td>\n",
       "      <td>13.4</td>\n",
       "      <td>9875.0</td>\n",
       "    </tr>\n",
       "    <tr>\n",
       "      <th>43196</th>\n",
       "      <td>43197</td>\n",
       "      <td>Monday</td>\n",
       "      <td>Chrome</td>\n",
       "      <td>13</td>\n",
       "      <td>4</td>\n",
       "      <td>8.5</td>\n",
       "      <td>2668.0</td>\n",
       "    </tr>\n",
       "    <tr>\n",
       "      <th>43197</th>\n",
       "      <td>43198</td>\n",
       "      <td>Friday</td>\n",
       "      <td>Firefox</td>\n",
       "      <td>29</td>\n",
       "      <td>10</td>\n",
       "      <td>32.9</td>\n",
       "      <td>15530.0</td>\n",
       "    </tr>\n",
       "    <tr>\n",
       "      <th>43198</th>\n",
       "      <td>43199</td>\n",
       "      <td>Monday</td>\n",
       "      <td>Internet Explorer</td>\n",
       "      <td>20</td>\n",
       "      <td>6</td>\n",
       "      <td>7.3</td>\n",
       "      <td>5215.0</td>\n",
       "    </tr>\n",
       "    <tr>\n",
       "      <th>43199</th>\n",
       "      <td>43200</td>\n",
       "      <td>Wednesday</td>\n",
       "      <td>Chrome</td>\n",
       "      <td>29</td>\n",
       "      <td>4</td>\n",
       "      <td>11.3</td>\n",
       "      <td>6627.0</td>\n",
       "    </tr>\n",
       "  </tbody>\n",
       "</table>\n",
       "<p>41472 rows × 7 columns</p>\n",
       "</div>"
      ],
      "text/plain": [
       "         Custmer        Day            Browser  No. of Clicks  Pages Viewed  \\\n",
       "0              1     Monday             Chrome             13             4   \n",
       "1              2   Saturday             Chrome             15             5   \n",
       "2              3     Monday  Internet Explorer             20             6   \n",
       "3              4     Monday             Chrome             42             6   \n",
       "4              5   Saturday  Internet Explorer             20             6   \n",
       "...          ...        ...                ...            ...           ...   \n",
       "43195      43196     Friday             Chrome             31             3   \n",
       "43196      43197     Monday             Chrome             13             4   \n",
       "43197      43198     Friday            Firefox             29            10   \n",
       "43198      43199     Monday  Internet Explorer             20             6   \n",
       "43199      43200  Wednesday             Chrome             29             4   \n",
       "\n",
       "       Time (min)  Amount Spent (Rs.)  \n",
       "0             8.5              2668.0  \n",
       "1            16.9              3469.0  \n",
       "2             7.3              5215.0  \n",
       "3            30.1             10423.0  \n",
       "4            13.3              5404.0  \n",
       "...           ...                 ...  \n",
       "43195        13.4              9875.0  \n",
       "43196         8.5              2668.0  \n",
       "43197        32.9             15530.0  \n",
       "43198         7.3              5215.0  \n",
       "43199        11.3              6627.0  \n",
       "\n",
       "[41472 rows x 7 columns]"
      ]
     },
     "execution_count": 29,
     "metadata": {},
     "output_type": "execute_result"
    }
   ],
   "source": [
    "new_mobiledata=mobiledata[(mobiledata['Amount Spent (Rs.)']<max_thresold)&(mobiledata['Amount Spent (Rs.)']>min_thresold)]\n",
    "new_mobiledata"
   ]
  },
  {
   "cell_type": "code",
   "execution_count": 30,
   "id": "db0db002",
   "metadata": {},
   "outputs": [
    {
     "data": {
      "text/plain": [
       "(41472, 7)"
      ]
     },
     "execution_count": 30,
     "metadata": {},
     "output_type": "execute_result"
    }
   ],
   "source": [
    "new_mobiledata.shape"
   ]
  },
  {
   "cell_type": "markdown",
   "id": "517620a6",
   "metadata": {},
   "source": [
    "#BY LR"
   ]
  },
  {
   "cell_type": "code",
   "execution_count": 31,
   "id": "b1ce51ab",
   "metadata": {},
   "outputs": [],
   "source": [
    "x=new_mobiledata.drop(['Amount Spent (Rs.)','Day','Browser'],axis=1)\n",
    "y=new_mobiledata['Amount Spent (Rs.)']"
   ]
  },
  {
   "cell_type": "code",
   "execution_count": 32,
   "id": "7e1b454c",
   "metadata": {},
   "outputs": [],
   "source": [
    "from sklearn.model_selection import train_test_split"
   ]
  },
  {
   "cell_type": "code",
   "execution_count": 33,
   "id": "c326eedc",
   "metadata": {},
   "outputs": [],
   "source": [
    "x_train,x_test,y_train,y_test=train_test_split(x,y,test_size=0.28,random_state=35)"
   ]
  },
  {
   "cell_type": "code",
   "execution_count": 34,
   "id": "5852d8d3",
   "metadata": {},
   "outputs": [],
   "source": [
    "from sklearn.linear_model import LinearRegression"
   ]
  },
  {
   "cell_type": "code",
   "execution_count": 35,
   "id": "c35024b1",
   "metadata": {},
   "outputs": [
    {
     "data": {
      "text/plain": [
       "LinearRegression()"
      ]
     },
     "execution_count": 35,
     "metadata": {},
     "output_type": "execute_result"
    }
   ],
   "source": [
    "lt=LinearRegression()\n",
    "lt.fit(x_train,y_train)"
   ]
  },
  {
   "cell_type": "code",
   "execution_count": 36,
   "id": "c4300fc2",
   "metadata": {},
   "outputs": [
    {
     "data": {
      "text/html": [
       "<div>\n",
       "<style scoped>\n",
       "    .dataframe tbody tr th:only-of-type {\n",
       "        vertical-align: middle;\n",
       "    }\n",
       "\n",
       "    .dataframe tbody tr th {\n",
       "        vertical-align: top;\n",
       "    }\n",
       "\n",
       "    .dataframe thead th {\n",
       "        text-align: right;\n",
       "    }\n",
       "</style>\n",
       "<table border=\"1\" class=\"dataframe\">\n",
       "  <thead>\n",
       "    <tr style=\"text-align: right;\">\n",
       "      <th></th>\n",
       "      <th>Custmer</th>\n",
       "      <th>No. of Clicks</th>\n",
       "      <th>Pages Viewed</th>\n",
       "      <th>Time (min)</th>\n",
       "    </tr>\n",
       "  </thead>\n",
       "  <tbody>\n",
       "    <tr>\n",
       "      <th>23757</th>\n",
       "      <td>23758</td>\n",
       "      <td>42</td>\n",
       "      <td>6</td>\n",
       "      <td>30.1</td>\n",
       "    </tr>\n",
       "    <tr>\n",
       "      <th>34010</th>\n",
       "      <td>34011</td>\n",
       "      <td>38</td>\n",
       "      <td>7</td>\n",
       "      <td>14.0</td>\n",
       "    </tr>\n",
       "    <tr>\n",
       "      <th>16344</th>\n",
       "      <td>16345</td>\n",
       "      <td>8</td>\n",
       "      <td>5</td>\n",
       "      <td>5.0</td>\n",
       "    </tr>\n",
       "    <tr>\n",
       "      <th>4554</th>\n",
       "      <td>4555</td>\n",
       "      <td>15</td>\n",
       "      <td>5</td>\n",
       "      <td>16.9</td>\n",
       "    </tr>\n",
       "    <tr>\n",
       "      <th>35942</th>\n",
       "      <td>35943</td>\n",
       "      <td>21</td>\n",
       "      <td>4</td>\n",
       "      <td>9.6</td>\n",
       "    </tr>\n",
       "  </tbody>\n",
       "</table>\n",
       "</div>"
      ],
      "text/plain": [
       "         Custmer  No. of Clicks  Pages Viewed  Time (min)\n",
       "23757      23758             42             6        30.1\n",
       "34010      34011             38             7        14.0\n",
       "16344      16345              8             5         5.0\n",
       "4554        4555             15             5        16.9\n",
       "35942      35943             21             4         9.6"
      ]
     },
     "execution_count": 36,
     "metadata": {},
     "output_type": "execute_result"
    }
   ],
   "source": [
    "y_predict=lt.predict(x_test)\n",
    "x_test.head()"
   ]
  },
  {
   "cell_type": "code",
   "execution_count": 37,
   "id": "e468af29",
   "metadata": {},
   "outputs": [
    {
     "data": {
      "text/plain": [
       "array([12711.19513222, 11797.13440478,  2419.37313795, ...,\n",
       "        9464.14725447,  3346.59741447,  3400.78529236])"
      ]
     },
     "execution_count": 37,
     "metadata": {},
     "output_type": "execute_result"
    }
   ],
   "source": [
    "y_predict"
   ]
  },
  {
   "cell_type": "code",
   "execution_count": 38,
   "id": "72eda2d0",
   "metadata": {},
   "outputs": [
    {
     "data": {
      "text/plain": [
       "23757    10423.0\n",
       "34010    12640.0\n",
       "16344     3648.0\n",
       "4554      3469.0\n",
       "35942     5920.0\n",
       "          ...   \n",
       "31453     4054.0\n",
       "36944     5999.0\n",
       "4454      9162.0\n",
       "41473     3604.0\n",
       "32246     2668.0\n",
       "Name: Amount Spent (Rs.), Length: 11613, dtype: float64"
      ]
     },
     "execution_count": 38,
     "metadata": {},
     "output_type": "execute_result"
    }
   ],
   "source": [
    "y_test"
   ]
  },
  {
   "cell_type": "code",
   "execution_count": 39,
   "id": "a56076e0",
   "metadata": {},
   "outputs": [
    {
     "name": "stdout",
     "output_type": "stream",
     "text": [
      "85.566199939868\n"
     ]
    }
   ],
   "source": [
    "accuracy=lt.score(x_test,y_test)\n",
    "print(accuracy*100)"
   ]
  },
  {
   "cell_type": "markdown",
   "id": "42bdf0e9",
   "metadata": {},
   "source": [
    "#By svr"
   ]
  },
  {
   "cell_type": "code",
   "execution_count": 40,
   "id": "49c41b1e",
   "metadata": {},
   "outputs": [],
   "source": [
    "x=new_mobiledata.drop(['Amount Spent (Rs.)','Day','Browser'],axis=1)\n",
    "y=new_mobiledata['Amount Spent (Rs.)']"
   ]
  },
  {
   "cell_type": "code",
   "execution_count": 41,
   "id": "e62f50d7",
   "metadata": {},
   "outputs": [],
   "source": [
    "from sklearn.model_selection import train_test_split"
   ]
  },
  {
   "cell_type": "code",
   "execution_count": 42,
   "id": "acddae4d",
   "metadata": {},
   "outputs": [],
   "source": [
    "x_train,x_test,y_train,y_test=train_test_split(x,y,test_size=0.30,random_state=35)"
   ]
  },
  {
   "cell_type": "code",
   "execution_count": 43,
   "id": "b00eaf09",
   "metadata": {},
   "outputs": [],
   "source": [
    "from sklearn.svm import SVR"
   ]
  },
  {
   "cell_type": "code",
   "execution_count": 44,
   "id": "91f41656",
   "metadata": {},
   "outputs": [],
   "source": [
    "svr=SVR()"
   ]
  },
  {
   "cell_type": "code",
   "execution_count": 45,
   "id": "25498371",
   "metadata": {},
   "outputs": [
    {
     "data": {
      "text/plain": [
       "SVR()"
      ]
     },
     "execution_count": 45,
     "metadata": {},
     "output_type": "execute_result"
    }
   ],
   "source": [
    "svr.fit(x_train,y_train)"
   ]
  },
  {
   "cell_type": "code",
   "execution_count": 46,
   "id": "64a4fb0e",
   "metadata": {},
   "outputs": [
    {
     "data": {
      "text/html": [
       "<div>\n",
       "<style scoped>\n",
       "    .dataframe tbody tr th:only-of-type {\n",
       "        vertical-align: middle;\n",
       "    }\n",
       "\n",
       "    .dataframe tbody tr th {\n",
       "        vertical-align: top;\n",
       "    }\n",
       "\n",
       "    .dataframe thead th {\n",
       "        text-align: right;\n",
       "    }\n",
       "</style>\n",
       "<table border=\"1\" class=\"dataframe\">\n",
       "  <thead>\n",
       "    <tr style=\"text-align: right;\">\n",
       "      <th></th>\n",
       "      <th>Custmer</th>\n",
       "      <th>No. of Clicks</th>\n",
       "      <th>Pages Viewed</th>\n",
       "      <th>Time (min)</th>\n",
       "    </tr>\n",
       "  </thead>\n",
       "  <tbody>\n",
       "    <tr>\n",
       "      <th>23757</th>\n",
       "      <td>23758</td>\n",
       "      <td>42</td>\n",
       "      <td>6</td>\n",
       "      <td>30.1</td>\n",
       "    </tr>\n",
       "    <tr>\n",
       "      <th>34010</th>\n",
       "      <td>34011</td>\n",
       "      <td>38</td>\n",
       "      <td>7</td>\n",
       "      <td>14.0</td>\n",
       "    </tr>\n",
       "    <tr>\n",
       "      <th>16344</th>\n",
       "      <td>16345</td>\n",
       "      <td>8</td>\n",
       "      <td>5</td>\n",
       "      <td>5.0</td>\n",
       "    </tr>\n",
       "    <tr>\n",
       "      <th>4554</th>\n",
       "      <td>4555</td>\n",
       "      <td>15</td>\n",
       "      <td>5</td>\n",
       "      <td>16.9</td>\n",
       "    </tr>\n",
       "    <tr>\n",
       "      <th>35942</th>\n",
       "      <td>35943</td>\n",
       "      <td>21</td>\n",
       "      <td>4</td>\n",
       "      <td>9.6</td>\n",
       "    </tr>\n",
       "  </tbody>\n",
       "</table>\n",
       "</div>"
      ],
      "text/plain": [
       "         Custmer  No. of Clicks  Pages Viewed  Time (min)\n",
       "23757      23758             42             6        30.1\n",
       "34010      34011             38             7        14.0\n",
       "16344      16345              8             5         5.0\n",
       "4554        4555             15             5        16.9\n",
       "35942      35943             21             4         9.6"
      ]
     },
     "execution_count": 46,
     "metadata": {},
     "output_type": "execute_result"
    }
   ],
   "source": [
    "y_predict=svr.predict(x_test)\n",
    "x_test.head()"
   ]
  },
  {
   "cell_type": "code",
   "execution_count": 47,
   "id": "d21cf08b",
   "metadata": {},
   "outputs": [
    {
     "data": {
      "text/plain": [
       "array([6015.71114525, 6020.23087815, 6014.09191761, ..., 6014.28317501,\n",
       "       6014.29752376, 6014.52500238])"
      ]
     },
     "execution_count": 47,
     "metadata": {},
     "output_type": "execute_result"
    }
   ],
   "source": [
    "y_predict"
   ]
  },
  {
   "cell_type": "code",
   "execution_count": 48,
   "id": "0ab25787",
   "metadata": {},
   "outputs": [
    {
     "data": {
      "text/plain": [
       "23757    10423.0\n",
       "34010    12640.0\n",
       "16344     3648.0\n",
       "4554      3469.0\n",
       "35942     5920.0\n",
       "          ...   \n",
       "6564      3273.0\n",
       "42271     6873.0\n",
       "5418      9162.0\n",
       "7689      5596.0\n",
       "19786     3469.0\n",
       "Name: Amount Spent (Rs.), Length: 12442, dtype: float64"
      ]
     },
     "execution_count": 48,
     "metadata": {},
     "output_type": "execute_result"
    }
   ],
   "source": [
    "y_test"
   ]
  },
  {
   "cell_type": "code",
   "execution_count": 49,
   "id": "aaa39b2d",
   "metadata": {},
   "outputs": [
    {
     "name": "stdout",
     "output_type": "stream",
     "text": [
      "-6.619103282786143\n"
     ]
    }
   ],
   "source": [
    "Accuracy=svr.score(x_test,y_test)\n",
    "print(Accuracy*100)"
   ]
  },
  {
   "cell_type": "markdown",
   "id": "e3105a8a",
   "metadata": {},
   "source": [
    "#DTC"
   ]
  },
  {
   "cell_type": "code",
   "execution_count": 54,
   "id": "90b4b2df",
   "metadata": {},
   "outputs": [],
   "source": [
    "from sklearn.preprocessing import StandardScaler\n",
    "sc = StandardScaler()\n",
    "X_train = sc.fit_transform(x_train)\n",
    "X_test = sc.transform(x_test)"
   ]
  },
  {
   "cell_type": "code",
   "execution_count": 57,
   "id": "720a5ffc",
   "metadata": {},
   "outputs": [
    {
     "ename": "ValueError",
     "evalue": "Unknown label type: 'continuous'",
     "output_type": "error",
     "traceback": [
      "\u001b[1;31m---------------------------------------------------------------------------\u001b[0m",
      "\u001b[1;31mValueError\u001b[0m                                Traceback (most recent call last)",
      "\u001b[1;32m~\\AppData\\Local\\Temp\\ipykernel_27388\\1830749577.py\u001b[0m in \u001b[0;36m<module>\u001b[1;34m\u001b[0m\n\u001b[0;32m      1\u001b[0m \u001b[1;32mfrom\u001b[0m \u001b[0msklearn\u001b[0m\u001b[1;33m.\u001b[0m\u001b[0mtree\u001b[0m \u001b[1;32mimport\u001b[0m \u001b[0mDecisionTreeClassifier\u001b[0m\u001b[1;33m\u001b[0m\u001b[1;33m\u001b[0m\u001b[0m\n\u001b[0;32m      2\u001b[0m \u001b[0mclassifier\u001b[0m \u001b[1;33m=\u001b[0m \u001b[0mDecisionTreeClassifier\u001b[0m\u001b[1;33m(\u001b[0m\u001b[0mcriterion\u001b[0m \u001b[1;33m=\u001b[0m \u001b[1;34m'entropy'\u001b[0m\u001b[1;33m,\u001b[0m \u001b[0mrandom_state\u001b[0m \u001b[1;33m=\u001b[0m \u001b[1;36m0\u001b[0m\u001b[1;33m)\u001b[0m\u001b[1;33m\u001b[0m\u001b[1;33m\u001b[0m\u001b[0m\n\u001b[1;32m----> 3\u001b[1;33m \u001b[0mclassifier\u001b[0m\u001b[1;33m.\u001b[0m\u001b[0mfit\u001b[0m\u001b[1;33m(\u001b[0m\u001b[0mX_train\u001b[0m\u001b[1;33m,\u001b[0m\u001b[0my_train\u001b[0m\u001b[1;33m)\u001b[0m\u001b[1;33m\u001b[0m\u001b[1;33m\u001b[0m\u001b[0m\n\u001b[0m",
      "\u001b[1;32m~\\anaconda3\\lib\\site-packages\\sklearn\\tree\\_classes.py\u001b[0m in \u001b[0;36mfit\u001b[1;34m(self, X, y, sample_weight, check_input, X_idx_sorted)\u001b[0m\n\u001b[0;32m    935\u001b[0m         \"\"\"\n\u001b[0;32m    936\u001b[0m \u001b[1;33m\u001b[0m\u001b[0m\n\u001b[1;32m--> 937\u001b[1;33m         super().fit(\n\u001b[0m\u001b[0;32m    938\u001b[0m             \u001b[0mX\u001b[0m\u001b[1;33m,\u001b[0m\u001b[1;33m\u001b[0m\u001b[1;33m\u001b[0m\u001b[0m\n\u001b[0;32m    939\u001b[0m             \u001b[0my\u001b[0m\u001b[1;33m,\u001b[0m\u001b[1;33m\u001b[0m\u001b[1;33m\u001b[0m\u001b[0m\n",
      "\u001b[1;32m~\\anaconda3\\lib\\site-packages\\sklearn\\tree\\_classes.py\u001b[0m in \u001b[0;36mfit\u001b[1;34m(self, X, y, sample_weight, check_input, X_idx_sorted)\u001b[0m\n\u001b[0;32m    201\u001b[0m \u001b[1;33m\u001b[0m\u001b[0m\n\u001b[0;32m    202\u001b[0m         \u001b[1;32mif\u001b[0m \u001b[0mis_classification\u001b[0m\u001b[1;33m:\u001b[0m\u001b[1;33m\u001b[0m\u001b[1;33m\u001b[0m\u001b[0m\n\u001b[1;32m--> 203\u001b[1;33m             \u001b[0mcheck_classification_targets\u001b[0m\u001b[1;33m(\u001b[0m\u001b[0my\u001b[0m\u001b[1;33m)\u001b[0m\u001b[1;33m\u001b[0m\u001b[1;33m\u001b[0m\u001b[0m\n\u001b[0m\u001b[0;32m    204\u001b[0m             \u001b[0my\u001b[0m \u001b[1;33m=\u001b[0m \u001b[0mnp\u001b[0m\u001b[1;33m.\u001b[0m\u001b[0mcopy\u001b[0m\u001b[1;33m(\u001b[0m\u001b[0my\u001b[0m\u001b[1;33m)\u001b[0m\u001b[1;33m\u001b[0m\u001b[1;33m\u001b[0m\u001b[0m\n\u001b[0;32m    205\u001b[0m \u001b[1;33m\u001b[0m\u001b[0m\n",
      "\u001b[1;32m~\\anaconda3\\lib\\site-packages\\sklearn\\utils\\multiclass.py\u001b[0m in \u001b[0;36mcheck_classification_targets\u001b[1;34m(y)\u001b[0m\n\u001b[0;32m    195\u001b[0m         \u001b[1;34m\"multilabel-sequences\"\u001b[0m\u001b[1;33m,\u001b[0m\u001b[1;33m\u001b[0m\u001b[1;33m\u001b[0m\u001b[0m\n\u001b[0;32m    196\u001b[0m     ]:\n\u001b[1;32m--> 197\u001b[1;33m         \u001b[1;32mraise\u001b[0m \u001b[0mValueError\u001b[0m\u001b[1;33m(\u001b[0m\u001b[1;34m\"Unknown label type: %r\"\u001b[0m \u001b[1;33m%\u001b[0m \u001b[0my_type\u001b[0m\u001b[1;33m)\u001b[0m\u001b[1;33m\u001b[0m\u001b[1;33m\u001b[0m\u001b[0m\n\u001b[0m\u001b[0;32m    198\u001b[0m \u001b[1;33m\u001b[0m\u001b[0m\n\u001b[0;32m    199\u001b[0m \u001b[1;33m\u001b[0m\u001b[0m\n",
      "\u001b[1;31mValueError\u001b[0m: Unknown label type: 'continuous'"
     ]
    }
   ],
   "source": [
    "from sklearn.tree import DecisionTreeClassifier\n",
    "classifier = DecisionTreeClassifier(criterion = 'entropy', random_state = 0)\n",
    "classifier.fit(X_train,y_train)"
   ]
  },
  {
   "cell_type": "code",
   "execution_count": null,
   "id": "7a9a00b6",
   "metadata": {},
   "outputs": [],
   "source": [
    "y_pred = classifier.predict(X_test)"
   ]
  },
  {
   "cell_type": "code",
   "execution_count": null,
   "id": "b496ab1e",
   "metadata": {},
   "outputs": [],
   "source": [
    "from sklearn.metrics import confusion_matrix, accuracy_score\n",
    "cm = confusion_matrix(y_test, y_pred)\n",
    "print(cm)\n",
    "accuracy_score(y_test, y_pred)"
   ]
  }
 ],
 "metadata": {
  "kernelspec": {
   "display_name": "Python 3 (ipykernel)",
   "language": "python",
   "name": "python3"
  },
  "language_info": {
   "codemirror_mode": {
    "name": "ipython",
    "version": 3
   },
   "file_extension": ".py",
   "mimetype": "text/x-python",
   "name": "python",
   "nbconvert_exporter": "python",
   "pygments_lexer": "ipython3",
   "version": "3.9.13"
  }
 },
 "nbformat": 4,
 "nbformat_minor": 5
}
